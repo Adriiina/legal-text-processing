{
 "cells": [
  {
   "cell_type": "markdown",
   "id": "a8e6fdf4",
   "metadata": {},
   "source": [
    "    PIPELINE NOTEBOOK"
   ]
  },
  {
   "cell_type": "code",
   "execution_count": null,
   "id": "a43525f3",
   "metadata": {},
   "outputs": [],
   "source": [
    "# Jupyter Notebook (Python 3, with your venv activated)\n",
    "# Sanity Check: Legal Text Processing Pipeline (Tiny Sample)\n",
    "\n",
    "import os, sys\n",
    "from pathlib import Path\n",
    "import pandas as pd\n",
    "\n",
    "# Make sure we can import from src/\n",
    "sys.path.append(str(Path(\"src\")))\n",
    "\n",
    "# --- Parameters ---\n",
    "BATCHES_DIR   = Path(\"data/batches\")\n",
    "EMB_DIR       = Path(\"data/processed/embeddings_sanity\")\n",
    "LDA_OUT       = Path(\"models/lda_sanity\")\n",
    "BERTOPIC_OUT  = Path(\"models/bertopic_sanity\")\n",
    "TIMECLS_DIR   = Path(\"data/processed/timecls_sanity\")\n",
    "DOMAINCLS_DIR = Path(\"data/processed/domaincls_sanity\")\n",
    "\n",
    "# Optional: limit docs for quick run\n",
    "MAX_DOCS = 200\n"
   ]
  },
  {
   "cell_type": "markdown",
   "id": "caab4638",
   "metadata": {},
   "source": [
    "    1. Generate embeddings (tiny subset)"
   ]
  },
  {
   "cell_type": "code",
   "execution_count": null,
   "id": "a9b20cc1",
   "metadata": {
    "vscode": {
     "languageId": "shellscript"
    }
   },
   "outputs": [],
   "source": [
    "!python -m src.ltm.embeddings \\\n",
    "  --batches-dir $BATCHES_DIR \\\n",
    "  --out-dir $EMB_DIR \\\n",
    "  --model sentence-transformers/all-MiniLM-L6-v2 \\\n",
    "  --window 128 --stride 100 --batch-size 8 --max-length 128 \\\n",
    "  --max-docs $MAX_DOCS --device auto\n"
   ]
  },
  {
   "cell_type": "markdown",
   "id": "9af2c7cb",
   "metadata": {},
   "source": [
    "    2. Topic Modeling: LDA"
   ]
  },
  {
   "cell_type": "code",
   "execution_count": null,
   "id": "ff8ac167",
   "metadata": {
    "vscode": {
     "languageId": "shellscript"
    }
   },
   "outputs": [],
   "source": [
    "!python -m src.ltm.topic_lda \\\n",
    "  --batches-dir $BATCHES_DIR \\\n",
    "  --out-dir $LDA_OUT \\\n",
    "  --n-topics 10 --vocab-size 5000 --min-freq 2 \\\n",
    "  --n-top-words 8 --max-docs $MAX_DOCS\n"
   ]
  },
  {
   "cell_type": "markdown",
   "id": "8d1a1da1",
   "metadata": {},
   "source": [
    "Gloss (top words + timelines):"
   ]
  },
  {
   "cell_type": "code",
   "execution_count": null,
   "id": "f533a46b",
   "metadata": {
    "vscode": {
     "languageId": "shellscript"
    }
   },
   "outputs": [],
   "source": [
    "!python -m src.ltm.lda_gloss \\\n",
    "  --topics-csv $LDA_OUT/lda_topics_k10.csv \\\n",
    "  --timelines-csv $LDA_OUT/lda_timelines_k10.csv \\\n",
    "  --out-csv $LDA_OUT/lda_gloss_timelines_k10.csv \\\n",
    "  --top-n 8\n",
    "pd.read_csv(f\"{LDA_OUT}/lda_gloss_timelines_k10.csv\").head()\n"
   ]
  },
  {
   "cell_type": "markdown",
   "id": "c5d3ffdd",
   "metadata": {},
   "source": [
    "    3. Topic Modeling: BERTopic"
   ]
  },
  {
   "cell_type": "code",
   "execution_count": null,
   "id": "2f094fb3",
   "metadata": {
    "vscode": {
     "languageId": "shellscript"
    }
   },
   "outputs": [],
   "source": [
    "!python -m src.ltm.topic_bertopic \\\n",
    "  --emb-dir $EMB_DIR \\\n",
    "  --batches-dir $BATCHES_DIR \\\n",
    "  --out-dir $BERTOPIC_OUT \\\n",
    "  --min-cluster-size 10 --umap-n-neighbors 5 --umap-n-components 3 \\\n",
    "  --max-docs $MAX_DOCS\n"
   ]
  },
  {
   "cell_type": "markdown",
   "id": "4f1d9f1b",
   "metadata": {},
   "source": [
    "Gloss:"
   ]
  },
  {
   "cell_type": "code",
   "execution_count": null,
   "id": "df986b2f",
   "metadata": {
    "vscode": {
     "languageId": "shellscript"
    }
   },
   "outputs": [],
   "source": [
    "!python -m src.ltm.bertopic_gloss \\\n",
    "  --topics-csv $BERTOPIC_OUT/bertopic_topics.csv \\\n",
    "  --timelines-csv $BERTOPIC_OUT/bertopic_timelines.csv \\\n",
    "  --out-csv $BERTOPIC_OUT/bertopic_gloss_timelines.csv \\\n",
    "  --top-n 8\n",
    "pd.read_csv(f\"{BERTOPIC_OUT}/bertopic_gloss_timelines.csv\").head()\n"
   ]
  },
  {
   "cell_type": "markdown",
   "id": "ec838e4d",
   "metadata": {},
   "source": [
    "    4. Prepare classification datasets (time & domain)\n",
    "Time (decade bins):"
   ]
  },
  {
   "cell_type": "code",
   "execution_count": null,
   "id": "8b908e78",
   "metadata": {
    "vscode": {
     "languageId": "shellscript"
    }
   },
   "outputs": [],
   "source": [
    "!python -m src.ltm.prepare_timecls \\\n",
    "  --batches-dir $BATCHES_DIR \\\n",
    "  --out-dir $TIMECLS_DIR \\\n",
    "  --max-docs $MAX_DOCS --min-docs-per-class 5 --val-ratio 0.3\n",
    "pd.read_csv(f\"{TIMECLS_DIR}/train.csv\").head()\n"
   ]
  },
  {
   "cell_type": "markdown",
   "id": "a25935ce",
   "metadata": {},
   "source": [
    "Domain (requires domain field in batches OR external labels CSV):"
   ]
  },
  {
   "cell_type": "code",
   "execution_count": null,
   "id": "aef340aa",
   "metadata": {
    "vscode": {
     "languageId": "shellscript"
    }
   },
   "outputs": [],
   "source": [
    "# Example if domains live inside batches\n",
    "!python -m src.ltm.prepare_domaincls \\\n",
    "  --batches-dir $BATCHES_DIR \\\n",
    "  --out-dir $DOMAINCLS_DIR \\\n",
    "  --max-docs $MAX_DOCS --min-docs-per-class 5 --val-ratio 0.3\n",
    "pd.read_csv(f\"{DOMAINCLS_DIR}/train.csv\").head()\n"
   ]
  },
  {
   "cell_type": "markdown",
   "id": "6dfd8833",
   "metadata": {},
   "source": [
    "    5. Run baselines (TF-IDF → LR/MLP)\n",
    "Time:"
   ]
  },
  {
   "cell_type": "code",
   "execution_count": null,
   "id": "e55cec7d",
   "metadata": {
    "vscode": {
     "languageId": "shellscript"
    }
   },
   "outputs": [],
   "source": [
    "!python -m src.ltm.classify_baselines \\\n",
    "  --train-csv $TIMECLS_DIR/train.csv \\\n",
    "  --valid-csv $TIMECLS_DIR/valid.csv \\\n",
    "  --out-dir models/timecls_sanity\n"
   ]
  },
  {
   "cell_type": "markdown",
   "id": "d48ffcf0",
   "metadata": {},
   "source": [
    "Domain:"
   ]
  },
  {
   "cell_type": "code",
   "execution_count": null,
   "id": "d6218660",
   "metadata": {
    "vscode": {
     "languageId": "shellscript"
    }
   },
   "outputs": [],
   "source": [
    "!python -m src.ltm.classify_baselines \\\n",
    "  --train-csv $DOMAINCLS_DIR/train.csv \\\n",
    "  --valid-csv $DOMAINCLS_DIR/valid.csv \\\n",
    "  --out-dir models/domaincls_sanity\n"
   ]
  }
 ],
 "metadata": {
  "language_info": {
   "name": "python"
  }
 },
 "nbformat": 4,
 "nbformat_minor": 5
}
